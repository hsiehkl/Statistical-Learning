{
 "cells": [
  {
   "cell_type": "markdown",
   "metadata": {},
   "source": [
    "# Statistical Learning HW1: K-nearest-neighbors (KNN) model"
   ]
  },
  {
   "cell_type": "markdown",
   "metadata": {},
   "source": [
    "# Part1 [myknn_regressor]\n",
    "### We are going to construct own KNN regressor and use the \"brute-force\" method to find nearest neighbors."
   ]
  },
  {
   "cell_type": "code",
   "execution_count": 1,
   "metadata": {},
   "outputs": [],
   "source": [
    "import pickle\n",
    "import numpy as np"
   ]
  },
  {
   "cell_type": "markdown",
   "metadata": {},
   "source": [
    "## Q1.1 Create myknn_regressor\n",
    "### ● init with \n",
    "    1. \"k\" as the hyper-parameter for the number of neighbors\n",
    "    2. \"real-valued function\", which might be \"equal_weight\" or \"remove_outliers\"."
   ]
  },
  {
   "cell_type": "code",
   "execution_count": 2,
   "metadata": {},
   "outputs": [],
   "source": [
    "# construct myknn_regressor\n",
    "class myknn_regressor:\n",
    "\n",
    "    def __init__(self, k, real_valued_fn):\n",
    "        self.k = k\n",
    "        self.real_valued_fn = real_valued_fn\n",
    "        \n",
    "    def fit(self, X, Y):\n",
    "        self.Y_train = Y\n",
    "        self.X_train_stand = self.__standardize(X)\n",
    "        \n",
    "    def predict(self, X_test):\n",
    "        X_test_stand = self.__standardize(X_test)\n",
    "        \n",
    "        distance_arr = []\n",
    "        for test_x in X_test_stand:\n",
    "            distances = []\n",
    "            for train_x in self.X_train_stand:\n",
    "                dis = self.__eudis(train_x, test_x)\n",
    "                distances.append(dis)\n",
    "            distance_arr.append(distances)\n",
    "\n",
    "        list_y = []\n",
    "        for dis in distance_arr:\n",
    "            sorted_index = [index for index, num in sorted(enumerate(dis), key=lambda x: x[-1])]\n",
    "            min_distances_index = sorted_index[:self.k]\n",
    "            ys = []\n",
    "            for i in min_distances_index:\n",
    "                y = self.Y_train[i]\n",
    "                ys.append(y)\n",
    "                distance = dis[i]\n",
    "            list_y.append(ys)\n",
    "\n",
    "        predicted_values = []\n",
    "        for each_list in list_y:\n",
    "            \n",
    "            if self.k < 10:\n",
    "                predicted_value = self.__take_average(each_list)\n",
    "                predicted_values.append(predicted_value)\n",
    "            else:\n",
    "                if self.real_valued_fn == \"remove_outliers\":\n",
    "                    li = self.__remove_outliers(each_list)\n",
    "                    predicted_value = self.__take_average(li)\n",
    "                    predicted_values.append(predicted_value)\n",
    "                else:\n",
    "                    predicted_value = self.__take_average(each_list)\n",
    "                    predicted_values.append(predicted_value)\n",
    "        \n",
    "        np_predicted_values = np.array(predicted_values)\n",
    "        return np_predicted_values\n",
    "\n",
    "    def __standardize(self, matrix):\n",
    "        X = (matrix - np.mean(matrix, axis=0)) / np.std(matrix, axis=0)\n",
    "        return X\n",
    "\n",
    "    def __eudis(self, v1, v2):\n",
    "        return np.linalg.norm(v1-v2)\n",
    "\n",
    "    def __remove_outliers(self, ys):\n",
    "        final_ys = []\n",
    "        q1, q3= np.percentile(ys, [25,75])\n",
    "        iqr = q3 - q1\n",
    "        lower_bound = q1 - (1.5 * iqr) \n",
    "        upper_bound = q3 + (1.5 * iqr)\n",
    "        for i in range(len(ys)):\n",
    "            if lower_bound <= ys[i] <= upper_bound:\n",
    "                final_ys.append(ys[i])\n",
    "        return final_ys\n",
    "\n",
    "    def __take_average(self, arr):\n",
    "        return sum(arr)/len(arr)"
   ]
  },
  {
   "cell_type": "code",
   "execution_count": 3,
   "metadata": {},
   "outputs": [],
   "source": [
    "# Function for calculating RMSE\n",
    "def RMSE(predictions, answers):\n",
    "    diff_sum = 0\n",
    "    for i in range(len(answers)):\n",
    "        diff = (predictions[i] - answers[i])**2\n",
    "        diff_sum += diff\n",
    "    rmse = np.sqrt(diff_sum/(len(answers)))\n",
    "    np_rmse = np.array(rmse)\n",
    "    return np_rmse"
   ]
  },
  {
   "cell_type": "markdown",
   "metadata": {},
   "source": [
    "### Load data from msd_data1.pickle"
   ]
  },
  {
   "cell_type": "code",
   "execution_count": 4,
   "metadata": {},
   "outputs": [],
   "source": [
    "df = open('msd_data1.pickle','rb')\n",
    "data = pickle.load(df)\n",
    "df.close()"
   ]
  },
  {
   "cell_type": "markdown",
   "metadata": {},
   "source": [
    "### Quick review of data"
   ]
  },
  {
   "cell_type": "code",
   "execution_count": 5,
   "metadata": {},
   "outputs": [
    {
     "data": {
      "text/plain": [
       "{'X_train': array([[  53.39967,   56.67781,   55.63508, ...,    1.3159 ,    2.37448,\n",
       "            1.85999],\n",
       "        [  42.83464,  -33.90478,   38.97704, ...,    9.72827, -175.51446,\n",
       "          -15.8389 ],\n",
       "        [  49.88591,   23.30563,   54.79012, ...,    1.94152,  101.27241,\n",
       "            8.99355],\n",
       "        ...,\n",
       "        [  41.04397,  -96.30727,   56.8073 , ...,    3.60251,  -97.24809,\n",
       "           -5.80797],\n",
       "        [  42.8676 ,   43.36365,   29.17957, ...,   18.71014,  208.9029 ,\n",
       "          -11.08426],\n",
       "        [  36.57558,   29.8733 ,   -3.08101, ...,   21.0417 ,  106.60317,\n",
       "            3.44396]]),\n",
       " 'Y_train': array([1996., 2001., 2003., ..., 2009., 1982., 1981.]),\n",
       " 'X_test': array([[  38.51784,   55.38723,   10.31652, ...,    6.66624,  -73.75585,\n",
       "            9.47857],\n",
       "        [  44.7309 ,   46.25776,    8.55636, ...,    4.5564 ,   53.49956,\n",
       "            5.39116],\n",
       "        [  43.08912,   45.70197,   17.18467, ...,  -13.64909,   -7.42137,\n",
       "           -4.97266],\n",
       "        ...,\n",
       "        [  39.81814,   62.12221,    6.60567, ...,   28.27807,  -60.00203,\n",
       "          -11.19226],\n",
       "        [  50.25968,   43.10325,   24.72866, ...,    2.71602,  -44.27226,\n",
       "           -2.54583],\n",
       "        [  41.39744,   -8.88692,  -20.15887, ...,    8.63798, -120.34024,\n",
       "            3.65709]]),\n",
       " 'Y_test': array([1998., 1988., 2005., ..., 1990., 2005., 1989.])}"
      ]
     },
     "execution_count": 5,
     "metadata": {},
     "output_type": "execute_result"
    }
   ],
   "source": [
    "data"
   ]
  },
  {
   "cell_type": "code",
   "execution_count": 6,
   "metadata": {},
   "outputs": [],
   "source": [
    "X_train = data['X_train']\n",
    "Y_train = data['Y_train']\n",
    "X_test = data['X_test']\n",
    "Y_test = data['Y_test']"
   ]
  },
  {
   "cell_type": "markdown",
   "metadata": {},
   "source": [
    "## Q1.2"
   ]
  },
  {
   "cell_type": "markdown",
   "metadata": {},
   "source": [
    "###  Make predictions using  k=20 and \"equal_weight\""
   ]
  },
  {
   "cell_type": "code",
   "execution_count": 7,
   "metadata": {},
   "outputs": [],
   "source": [
    "myknn_equ = myknn_regressor(20, \"equal_weight\")\n",
    "myknn_equ.fit(X_train, Y_train)\n",
    "ypred_equ = myknn_equ.predict(X_test)"
   ]
  },
  {
   "cell_type": "markdown",
   "metadata": {},
   "source": [
    "### Calculate RMSE"
   ]
  },
  {
   "cell_type": "code",
   "execution_count": 8,
   "metadata": {
    "scrolled": true
   },
   "outputs": [],
   "source": [
    "rmse_equ = RMSE(ypred_equ, Y_test)"
   ]
  },
  {
   "cell_type": "markdown",
   "metadata": {},
   "source": [
    "### List the RMSE and the first 20 predictions in the testing data"
   ]
  },
  {
   "cell_type": "code",
   "execution_count": 9,
   "metadata": {},
   "outputs": [
    {
     "name": "stdout",
     "output_type": "stream",
     "text": [
      "RMSE: 10.292158827638321\n",
      "First 20 predictions:\n"
     ]
    },
    {
     "data": {
      "text/plain": [
       "array([1992.9 , 1994.05, 2000.05, 1991.5 , 1992.8 , 1998.5 , 1987.1 ,\n",
       "       1990.9 , 2001.8 , 2003.  , 2001.15, 1998.65, 1995.55, 1997.2 ,\n",
       "       1995.05, 1997.35, 1992.15, 1999.1 , 2003.6 , 1995.75])"
      ]
     },
     "execution_count": 9,
     "metadata": {},
     "output_type": "execute_result"
    }
   ],
   "source": [
    "print(\"RMSE:\", rmse_equ)\n",
    "print(\"First 20 predictions:\")\n",
    "ypred_equ[:20]"
   ]
  },
  {
   "cell_type": "markdown",
   "metadata": {},
   "source": [
    "## Q1.3"
   ]
  },
  {
   "cell_type": "markdown",
   "metadata": {},
   "source": [
    "### Make predictions using k=20 and \"remove_outliers\""
   ]
  },
  {
   "cell_type": "code",
   "execution_count": 10,
   "metadata": {},
   "outputs": [],
   "source": [
    "myknn_out = myknn_regressor(20, \"remove_outliers\")\n",
    "myknn_out.fit(X_train, Y_train)\n",
    "ypred_out = myknn_out.predict(X_test)"
   ]
  },
  {
   "cell_type": "markdown",
   "metadata": {},
   "source": [
    "### Calculate RMSE"
   ]
  },
  {
   "cell_type": "code",
   "execution_count": 11,
   "metadata": {},
   "outputs": [],
   "source": [
    "rmse_out = RMSE(ypred_out, Y_test)"
   ]
  },
  {
   "cell_type": "markdown",
   "metadata": {},
   "source": [
    "### List the RMSE and the first 20 predictions in the testing data"
   ]
  },
  {
   "cell_type": "code",
   "execution_count": 12,
   "metadata": {},
   "outputs": [
    {
     "name": "stdout",
     "output_type": "stream",
     "text": [
      "RMSE: 10.225720983625134\n",
      "First 20 predictions:\n"
     ]
    },
    {
     "data": {
      "text/plain": [
       "array([1992.9       , 1994.05      , 2000.05      , 1992.73684211,\n",
       "       1992.8       , 2000.        , 1987.1       , 1990.9       ,\n",
       "       2001.8       , 2003.94736842, 2001.15      , 2000.94444444,\n",
       "       1995.55      , 1997.2       , 1998.61111111, 1997.35      ,\n",
       "       1992.15      , 2004.23529412, 2003.6       , 1995.75      ])"
      ]
     },
     "execution_count": 12,
     "metadata": {},
     "output_type": "execute_result"
    }
   ],
   "source": [
    "print(\"RMSE:\", rmse_out)\n",
    "print(\"First 20 predictions:\")\n",
    "ypred_out[:20]"
   ]
  },
  {
   "cell_type": "markdown",
   "metadata": {},
   "source": [
    "## Part1 observations:\n",
    "#### 1. 在 k = 20 的情形下，使用 \"remove_outliers\" 計算預測值相較於 \"equal_weight\" 有較大的 RMSE，顯示去除 outliers 可能有助於提高準確率。\n",
    "#### 2. 然而兩者的 RMSE 並未差異很大，顯示或許資料特徵能夠相對反應出 Y 值，沒有太多的離群值產生，因此兩者預測結果差異不大，誤差自然也相去不遠。"
   ]
  },
  {
   "cell_type": "markdown",
   "metadata": {},
   "source": [
    "# -----"
   ]
  },
  {
   "cell_type": "markdown",
   "metadata": {},
   "source": [
    "# Part2 [Tuning the Hyper-parameter]\n",
    "### We are going to observe prediciton outcomes under different k values and feature standerdizations."
   ]
  },
  {
   "cell_type": "code",
   "execution_count": 13,
   "metadata": {},
   "outputs": [],
   "source": [
    "from sklearn import preprocessing\n",
    "from sklearn.neighbors import KNeighborsRegressor\n",
    "%matplotlib inline\n",
    "import matplotlib.pyplot as plt"
   ]
  },
  {
   "cell_type": "markdown",
   "metadata": {},
   "source": [
    "### Set up k_set and useful functions"
   ]
  },
  {
   "cell_type": "code",
   "execution_count": 14,
   "metadata": {},
   "outputs": [],
   "source": [
    "k_set = [1,2,3,4,5,10,15,20,25,30,35,40,45,50,55,60,80,100,120,140,160,180,200]"
   ]
  },
  {
   "cell_type": "code",
   "execution_count": 15,
   "metadata": {},
   "outputs": [],
   "source": [
    "# using sklearn module\n",
    "def knn_regressor_predict(k, X_train, Y_train, X_test):\n",
    "    knn = KNeighborsRegressor(n_neighbors=k, algorithm='brute')\n",
    "    knn.fit(X_train, Y_train)\n",
    "    ypreds = knn.predict(X_test)\n",
    "    return ypreds"
   ]
  },
  {
   "cell_type": "code",
   "execution_count": 34,
   "metadata": {},
   "outputs": [],
   "source": [
    "# own knn class\n",
    "def myknn_regressor_predict(k, X_train, Y_train, X_test):\n",
    "    myknn = myknn_regressor(20, \"remove_outliers\")\n",
    "    myknn.fit(X_train, Y_train)\n",
    "    ypreds = myknn.predict(X_test)\n",
    "    return ypreds"
   ]
  },
  {
   "cell_type": "markdown",
   "metadata": {},
   "source": [
    "## Case1: sklearn KNN model with all feature values standardized under different k values"
   ]
  },
  {
   "cell_type": "code",
   "execution_count": 17,
   "metadata": {},
   "outputs": [],
   "source": [
    "# standardize data\n",
    "X_train_scaled = preprocessing.scale(X_train)\n",
    "X_test_scaled = preprocessing.scale(X_test)\n",
    "\n",
    "predictions_scaled = []\n",
    "for k in k_set:\n",
    "    predictions = knn_regressor_predict(k, X_train_scaled, Y_train, X_test_scaled)\n",
    "    predictions_scaled.append(predictions)"
   ]
  },
  {
   "cell_type": "markdown",
   "metadata": {},
   "source": [
    "### Calculate RMSE for each k value"
   ]
  },
  {
   "cell_type": "code",
   "execution_count": 18,
   "metadata": {},
   "outputs": [
    {
     "name": "stdout",
     "output_type": "stream",
     "text": [
      "1 13.94019368588543\n",
      "2 12.097861381252473\n",
      "3 11.448255568231989\n",
      "4 11.043653909221652\n",
      "5 10.900440969673362\n",
      "10 10.46269085847422\n",
      "15 10.35945758625814\n",
      "20 10.292158827638321\n",
      "25 10.261870966511575\n",
      "30 10.25780403905746\n",
      "35 10.235202506063878\n",
      "40 10.209997388181183\n",
      "45 10.204546360311829\n",
      "50 10.228160003962913\n",
      "55 10.232596529500082\n",
      "60 10.242063661955802\n",
      "80 10.245796391589913\n",
      "100 10.260879617914501\n",
      "120 10.284962306823397\n",
      "140 10.299767106540788\n",
      "160 10.318954408812258\n",
      "180 10.34784164042078\n",
      "200 10.370087243686369\n"
     ]
    }
   ],
   "source": [
    "rmses_scaled = []\n",
    "for i in range(len(k_set)):\n",
    "    rmse_scaled = RMSE(predictions_scaled[i], Y_test)\n",
    "    rmses_scaled.append(rmse_scaled)\n",
    "    print(k_set[i], rmse_scaled)"
   ]
  },
  {
   "cell_type": "markdown",
   "metadata": {},
   "source": [
    "### The relations between  k(x-axis) and RMSE(y-axis)"
   ]
  },
  {
   "cell_type": "code",
   "execution_count": 19,
   "metadata": {},
   "outputs": [
    {
     "data": {
      "image/png": "[encoded data removed]",
      "text/plain": [
       "<Figure size 432x288 with 1 Axes>"
      ]
     },
     "metadata": {},
     "output_type": "display_data"
    }
   ],
   "source": [
    "plt.plot(k_set, rmses_scaled)\n",
    "plt.show()"
   ]
  },
  {
   "cell_type": "markdown",
   "metadata": {},
   "source": [
    "## Case2: sklearn KNN model without feature scaling under different k values"
   ]
  },
  {
   "cell_type": "code",
   "execution_count": 20,
   "metadata": {},
   "outputs": [],
   "source": [
    "predictions_non_scaled = []\n",
    "for k in k_set:\n",
    "    predictions = knn_regressor_predict(k, X_train, Y_train, X_test)\n",
    "    predictions_non_scaled.append(predictions)"
   ]
  },
  {
   "cell_type": "code",
   "execution_count": 21,
   "metadata": {},
   "outputs": [
    {
     "name": "stdout",
     "output_type": "stream",
     "text": [
      "1 14.923638966418345\n",
      "2 12.777499755429464\n",
      "3 12.075674967716077\n",
      "4 11.767805657810635\n",
      "5 11.466392632384453\n",
      "10 11.077460900404935\n",
      "15 10.88897913794797\n",
      "20 10.797788546734951\n",
      "25 10.790073017979692\n",
      "30 10.750265612567011\n",
      "35 10.717738719772298\n",
      "40 10.714437504678774\n",
      "45 10.698494013475859\n",
      "50 10.69110105960404\n",
      "55 10.68260873412441\n",
      "60 10.672535729098705\n",
      "80 10.662907517124506\n",
      "100 10.677019504524656\n",
      "120 10.68313963899639\n",
      "140 10.687017556442067\n",
      "160 10.691630026202139\n",
      "180 10.69071978380711\n",
      "200 10.69885337470018\n"
     ]
    }
   ],
   "source": [
    "rmses_non_scaled = []\n",
    "for i in range(len(k_set)):\n",
    "    rmse_non_scaled = RMSE(predictions_non_scaled[i], Y_test)\n",
    "    rmses_non_scaled.append(rmse_non_scaled)\n",
    "    print(k_set[i], rmse_non_scaled)"
   ]
  },
  {
   "cell_type": "code",
   "execution_count": 22,
   "metadata": {},
   "outputs": [
    {
     "data": {
      "image/png": "[encoded data removed]",
      "text/plain": [
       "<Figure size 432x288 with 1 Axes>"
      ]
     },
     "metadata": {},
     "output_type": "display_data"
    }
   ],
   "source": [
    "plt.plot(k_set, rmses_non_scaled)\n",
    "plt.show()"
   ]
  },
  {
   "cell_type": "markdown",
   "metadata": {},
   "source": [
    "## Case3: use standardized features and adopted myknn_regressor with \"remove_outlier\""
   ]
  },
  {
   "cell_type": "code",
   "execution_count": 47,
   "metadata": {},
   "outputs": [],
   "source": [
    "predictions_myknn = []\n",
    "for k in k_set:\n",
    "    myknn = myknn_regressor(k, \"remove_outliers\")\n",
    "    myknn.fit(X_train, Y_train)\n",
    "    ypred = myknn.predict(X_test)\n",
    "    predictions_myknn.append(ypred)"
   ]
  },
  {
   "cell_type": "code",
   "execution_count": 48,
   "metadata": {},
   "outputs": [
    {
     "name": "stdout",
     "output_type": "stream",
     "text": [
      "1 13.94019368588543\n",
      "2 12.097861381252473\n",
      "3 11.448255568231989\n",
      "4 11.043653909221652\n",
      "5 10.900440969673362\n",
      "10 10.514337993290836\n",
      "15 10.343823629898093\n",
      "20 10.225720983625134\n",
      "25 10.213345451143013\n",
      "30 10.1880791936093\n",
      "35 10.161597862384475\n",
      "40 10.095243787687686\n",
      "45 10.056682304105303\n",
      "50 10.089018275220822\n",
      "55 10.076818047624421\n",
      "60 10.089731397690315\n",
      "80 10.067742577227312\n",
      "100 10.063088284816114\n",
      "120 10.088531815151669\n",
      "140 10.105973734512313\n",
      "160 10.10905585091357\n",
      "180 10.143134931440638\n",
      "200 10.170153335037122\n"
     ]
    }
   ],
   "source": [
    "rmses_myknn = []\n",
    "for i in range(len(k_set)):\n",
    "    rmse_myknn = RMSE(predictions_myknn[i], Y_test)\n",
    "    rmses_myknn.append(rmse_myknn)\n",
    "    print(k_set[i], rmse_myknn)"
   ]
  },
  {
   "cell_type": "code",
   "execution_count": 49,
   "metadata": {},
   "outputs": [
    {
     "data": {
      "image/png": "[encoded data removed]",
      "text/plain": [
       "<Figure size 432x288 with 1 Axes>"
      ]
     },
     "metadata": {},
     "output_type": "display_data"
    }
   ],
   "source": [
    "plt.plot(k_set, rmses_myknn)\n",
    "plt.show()"
   ]
  },
  {
   "cell_type": "markdown",
   "metadata": {},
   "source": [
    "## Compare three cases "
   ]
  },
  {
   "cell_type": "code",
   "execution_count": 50,
   "metadata": {},
   "outputs": [
    {
     "data": {
      "image/png": "[encoded data removed]",
      "text/plain": [
       "<Figure size 432x288 with 1 Axes>"
      ]
     },
     "metadata": {},
     "output_type": "display_data"
    }
   ],
   "source": [
    "plt.plot(k_set, rmses_scaled, color='green', label='features standerdized')\n",
    "plt.plot(k_set, rmses_non_scaled, color='red', label='non features standerdized')\n",
    "plt.plot(k_set, rmses_myknn, color='blue', label='myknn')\n",
    "plt.legend()\n",
    "\n",
    "plt.xlabel('k')\n",
    "plt.ylabel('RMSE')\n",
    "plt.show()"
   ]
  },
  {
   "cell_type": "markdown",
   "metadata": {},
   "source": [
    "## Part2 observations:\n",
    "#### 1. 可以明顯看出不論是否有標準化特徵值，誤差皆在大約 k = 1 到 k = 20 之間快速下降，而後 RMSE 即趨緩。\n",
    "#### 2. 不論 k 為何，特徵標準化後數據的 RMSE 明顯小於未標準化的數據。\n",
    "#### 3. 特徵標準化的情況下，使用 myknn_regressor 在 k 值相對較大時，有較低的誤差，假設 sklearn 模組在計算預測平均沒有剔除 outliers，則可反應當 k 太大時可能會抓到和自己不太相似的鄰居，進而導致誤差提升。\n",
    "#### 4. 由此可知，在選取 k 時不建議選取過小的值，而以此例子來說， k 值選在 40 上下預測出來的結果誤差最小。\n",
    "#### 5. 使用 sklearn 模組的運算速度相較於 myknn_regressor 速度快上許多，顯示在優化效率上還有很大的空間。"
   ]
  },
  {
   "cell_type": "code",
   "execution_count": null,
   "metadata": {},
   "outputs": [],
   "source": []
  }
 ],
 "metadata": {
  "kernelspec": {
   "display_name": "Python 3",
   "language": "python",
   "name": "python3"
  },
  "language_info": {
   "codemirror_mode": {
    "name": "ipython",
    "version": 3
   },
   "file_extension": ".py",
   "mimetype": "text/x-python",
   "name": "python",
   "nbconvert_exporter": "python",
   "pygments_lexer": "ipython3",
   "version": "3.6.5"
  }
 },
 "nbformat": 4,
 "nbformat_minor": 2
}
